{
 "cells": [
  {
   "cell_type": "code",
   "execution_count": 1,
   "metadata": {},
   "outputs": [
    {
     "name": "stdout",
     "output_type": "stream",
     "text": [
      "안녕하세요!\n"
     ]
    }
   ],
   "source": [
    "def my_decorator(func):\n",
    "    def wrapper():\n",
    "        print(\"함수 호출 전\")\n",
    "        func()\n",
    "        print(\"함수 호출 후\")\n",
    "\n",
    "    return wrapper\n",
    "\n",
    "def say_hello():\n",
    "    print(\"안녕하세요!\")\n",
    "\n",
    "\n",
    "say_hello()\n"
   ]
  },
  {
   "cell_type": "code",
   "execution_count": 2,
   "metadata": {},
   "outputs": [
    {
     "name": "stdout",
     "output_type": "stream",
     "text": [
      "함수 호출 전\n",
      "안녕하세요!\n",
      "함수 호출 후\n"
     ]
    }
   ],
   "source": [
    "say_hello = my_decorator(say_hello)\n",
    "\n",
    "say_hello()"
   ]
  },
  {
   "cell_type": "code",
   "execution_count": null,
   "metadata": {},
   "outputs": [],
   "source": [
    "def my_decorator(func):\n",
    "    def wrapper():\n",
    "        print(\"함수 호출 전\")\n",
    "        func()\n",
    "        print(\"함수 호출 후\")\n",
    "\n",
    "    return wrapper\n",
    "\n",
    "\n",
    "@my_decorator\n",
    "def say_hello():\n",
    "    print(\"안녕하세요!\")\n",
    "\n",
    "\n",
    "say_hello()"
   ]
  },
  {
   "cell_type": "code",
   "execution_count": 5,
   "metadata": {},
   "outputs": [],
   "source": [
    "import time\n",
    "\n",
    "def timing_decorator(func):\n",
    "    def wrapper(*args, **kwargs):\n",
    "        # 함수 실행 전 시간 측정\n",
    "        start_time = time.time()\n",
    "        result = func(*args, **kwargs)\n",
    "        # 함수 실행 후 시간 측정\n",
    "        end_time = time.time()\n",
    "        # 함수 실행 시간 출력\n",
    "        print(\n",
    "            f\"[알림] 함수명: <{func.__name__}> 실행에 {end_time - start_time:.6f} 초 소요되었습니다.\")\n",
    "        return result\n",
    "    \n",
    "    return wrapper\n",
    "\n",
    "@timing_decorator\n",
    "def sample_function(n):\n",
    "    sum = 0\n",
    "    for i in range(n):\n",
    "        sum += i\n",
    "    return sum"
   ]
  },
  {
   "cell_type": "code",
   "execution_count": 6,
   "metadata": {},
   "outputs": [
    {
     "name": "stdout",
     "output_type": "stream",
     "text": [
      "[알림] 함수명: <sample_function> 실행에 0.041090 초 소요되었습니다.\n"
     ]
    },
    {
     "data": {
      "text/plain": [
       "499999500000"
      ]
     },
     "execution_count": 6,
     "metadata": {},
     "output_type": "execute_result"
    }
   ],
   "source": [
    "sample_function(1000000)"
   ]
  },
  {
   "cell_type": "code",
   "execution_count": 7,
   "metadata": {},
   "outputs": [],
   "source": [
    "@timing_decorator\n",
    "def another_function():\n",
    "    time.sleep(1.5)\n",
    "    return 0"
   ]
  },
  {
   "cell_type": "code",
   "execution_count": 8,
   "metadata": {},
   "outputs": [
    {
     "name": "stdout",
     "output_type": "stream",
     "text": [
      "[알림] 함수명: <another_function> 실행에 1.504993 초 소요되었습니다.\n"
     ]
    },
    {
     "data": {
      "text/plain": [
       "0"
      ]
     },
     "execution_count": 8,
     "metadata": {},
     "output_type": "execute_result"
    }
   ],
   "source": [
    "another_function()"
   ]
  },
  {
   "cell_type": "code",
   "execution_count": 10,
   "metadata": {},
   "outputs": [],
   "source": [
    "def validate_positive_number(func):\n",
    "    def wrapper(arg):\n",
    "        if arg < 0:\n",
    "            raise ValueError(\"인자는 0보다 커야(positive) 합니다.\")\n",
    "        return func(arg)\n",
    "    \n",
    "    return wrapper\n",
    "\n",
    "def validate_integer(func):\n",
    "    def wrapper(arg):\n",
    "        if not isinstance(arg, int):\n",
    "            raise ValueError(\"인자는 정수(integer)여야 합니다.\")\n",
    "        return func(arg)\n",
    "    return wrapper\n",
    "\n",
    "def process_number(num):\n",
    "    print(f\"숫자 검증: {num}\")"
   ]
  },
  {
   "cell_type": "code",
   "execution_count": 11,
   "metadata": {},
   "outputs": [
    {
     "name": "stdout",
     "output_type": "stream",
     "text": [
      "숫자 검증: 1\n"
     ]
    }
   ],
   "source": [
    "process_number(1)"
   ]
  },
  {
   "cell_type": "code",
   "execution_count": 13,
   "metadata": {},
   "outputs": [
    {
     "name": "stdout",
     "output_type": "stream",
     "text": [
      "숫자 검증: 1\n"
     ]
    }
   ],
   "source": [
    "@validate_integer\n",
    "def process_number(num):\n",
    "    print(f\"숫자 검증: {num}\")\n",
    "\n",
    "process_number(1)"
   ]
  },
  {
   "cell_type": "code",
   "execution_count": 14,
   "metadata": {},
   "outputs": [
    {
     "name": "stdout",
     "output_type": "stream",
     "text": [
      "숫자 검증: 1\n"
     ]
    }
   ],
   "source": [
    "@validate_positive_number\n",
    "def process_number(num):\n",
    "    print(f\"숫자 검증: {num}\")\n",
    "\n",
    "process_number(1)"
   ]
  },
  {
   "cell_type": "code",
   "execution_count": null,
   "metadata": {},
   "outputs": [],
   "source": []
  }
 ],
 "metadata": {
  "kernelspec": {
   "display_name": "career-service-api-hR0BAqi0-py3.12",
   "language": "python",
   "name": "python3"
  },
  "language_info": {
   "codemirror_mode": {
    "name": "ipython",
    "version": 3
   },
   "file_extension": ".py",
   "mimetype": "text/x-python",
   "name": "python",
   "nbconvert_exporter": "python",
   "pygments_lexer": "ipython3",
   "version": "3.12.4"
  }
 },
 "nbformat": 4,
 "nbformat_minor": 2
}
